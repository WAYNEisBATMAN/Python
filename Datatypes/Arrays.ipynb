{
 "cells": [
  {
   "cell_type": "code",
   "execution_count": 7,
   "metadata": {},
   "outputs": [
    {
     "output_type": "stream",
     "name": "stdout",
     "text": "array('i', [1, 2, 3, 4, 5, 6])\n1 2 3 4 5 6"
    }
   ],
   "source": [
    "\"\"\"\n",
    "Arrays are collection of ordered data values.\n",
    "\n",
    "------------------------------------Difference between Arrays and List---------------------------------\n",
    "\n",
    "1. Python list and arrays have same way of storing data.\n",
    "2. Arrays take only single type of data values but lists can have any type of data values.\n",
    "3. Therefore, other than a few operations, the kind of operations performed on them are different.\n",
    "\n",
    "\n",
    "They can be useful when we have to manipulate only a specific data type values. A user can treat lists as arrays. \n",
    "However, user cannot constraint the type of elements stored in a list. \n",
    "\n",
    "\"\"\"\n",
    "\"\"\"\n",
    "1) Creating arrays ---> Array in Python can be created by importing array module. array(data_type, value_list) \n",
    "                        is used to create an array with data type and value list specified in its arguments.\n",
    "\n",
    "                        Commonly used type codes are listed as follows:\n",
    "\n",
    "                        i for integers and d for floats.\n",
    "\"\"\"\n",
    "\n",
    "import array as ar\n",
    "a=ar.array(\"i\", [1,2,3,4,5,6])\n",
    "\n",
    "print(a)\n",
    "# OR\n",
    "for i in a:\n",
    "    print(i, end=\" \")\n",
    "\n",
    "\n",
    "\n"
   ]
  },
  {
   "cell_type": "code",
   "execution_count": 8,
   "metadata": {},
   "outputs": [
    {
     "output_type": "stream",
     "name": "stdout",
     "text": "3\n"
    }
   ],
   "source": [
    "\n",
    "\"\"\"\n",
    "2) Accessing Python Array Elements ---> Use the index operator [ ] to access an item in a array. \n",
    "                                        The index must be an integer.\n",
    "\n",
    "\n",
    "\"\"\"\n",
    "\n",
    "\n",
    "import array as ar\n",
    "a=ar.array(\"i\", [1,2,3,4,5,6])\n",
    "print(a[2])\n",
    "\n"
   ]
  },
  {
   "cell_type": "code",
   "execution_count": 11,
   "metadata": {},
   "outputs": [
    {
     "output_type": "stream",
     "name": "stdout",
     "text": "array('i', [1, 2, 3, 4, 5, 6, 7])\narray('i', [1, 9, 2, 3, 4, 5, 6, 7])\narray('i', [1, 9, 2, 3, 4, 5, 6, 7, 34, 343, 2, 11, 345, 65, 3])\n"
    }
   ],
   "source": [
    "\"\"\"\n",
    "3) Changing and Adding Elements ---> Arrays are mutable; their elements can be changed in a similar way like lists.\n",
    "\n",
    "                                    \n",
    "Adding new elements = (a) append() : Adds an element at the end of an array. \n",
    "                          Syntax   : array_name.append(element)\n",
    "\n",
    "                      (b) insert() : Adds an element at the specified position.\n",
    "                          Syntax   : array_name.insert(index, value)\n",
    "\n",
    "                      (c) extend() : Add the elements of an array (or any iterable), to the end of the current                                       array.\n",
    "\n",
    "\n",
    "\"\"\"\n",
    "import array as ar\n",
    "a=ar.array(\"i\", [1,2,3,4,5,6])\n",
    "\n",
    "b=ar.array(\"i\",[34,343,2,11,345,65,3])\n",
    "\n",
    "a.append(7)        # append()\n",
    "print(a)\n",
    "\n",
    "a.insert(1,9)      # insert()  \n",
    "print(a)\n",
    "\n",
    "a.extend(b)        # extend()\n",
    "print(a)\n",
    "\n"
   ]
  },
  {
   "cell_type": "code",
   "execution_count": 22,
   "metadata": {},
   "outputs": [
    {
     "output_type": "stream",
     "name": "stdout",
     "text": "array('i', [1, 3, 4, 5, 6])\narray('i', [3, 4, 5, 6])\narray('i', [3, 4, 6])\n"
    }
   ],
   "source": [
    "\n",
    "\"\"\"\n",
    "4) Removing Elements from the Array ---> \n",
    "\n",
    "(a) remove() :\tRemoves the first item with the specified value\n",
    "    SYNTAX   :  array_name.remove(value)\n",
    "\n",
    "(b) pop()\t :  Removes the element at the specified position\n",
    "    SYNTAX   :  array_name.pop(key)\n",
    "\n",
    "(c) clear()\t: Removes all the elements from the list\n",
    "    SYNTAX  :\n",
    "\n",
    "(d) del : We can delete one or more items from an array using Python's del statement.\n",
    "          In this we can delete a single value and also a range of values.\n",
    "    SYNTAX  :  del array_name[index or index range]      \n",
    "\n",
    "\n",
    "\"\"\"\n",
    "\n",
    "import array as ar\n",
    "a=ar.array(\"i\", [1,2,3,4,5,6])\n",
    "\n",
    "a.pop(1)\n",
    "print(a)\n",
    "\n",
    "\n",
    "a.remove(1)\n",
    "print(a)\n",
    "\n",
    "\n",
    "del a[2]\n",
    "print(a)\n",
    "\n"
   ]
  },
  {
   "cell_type": "code",
   "execution_count": 23,
   "metadata": {},
   "outputs": [
    {
     "output_type": "stream",
     "name": "stdout",
     "text": "array('i', [3, 4, 5])\n"
    }
   ],
   "source": [
    "\"\"\"\n",
    "5) Slicing of a Array ---> We can access a range of items in an array by using the slicing operator.\n",
    "\n",
    "                           Syntax ---> array_name[start index : end index]\n",
    "\n",
    "\"\"\"\n",
    "\n",
    "import array as ar\n",
    "a=ar.array(\"i\", [1,2,3,4,5,6])\n",
    "\n",
    "print(a[2:5])\n"
   ]
  },
  {
   "cell_type": "code",
   "execution_count": null,
   "metadata": {},
   "outputs": [],
   "source": []
  }
 ],
 "metadata": {
  "language_info": {
   "codemirror_mode": {
    "name": "ipython",
    "version": 3
   },
   "file_extension": ".py",
   "mimetype": "text/x-python",
   "name": "python",
   "nbconvert_exporter": "python",
   "pygments_lexer": "ipython3",
   "version": "3.8.1-final"
  },
  "orig_nbformat": 2,
  "kernelspec": {
   "name": "python38164bitdb5eb25146b548e1b553eaf48f667f10",
   "display_name": "Python 3.8.1 64-bit"
  }
 },
 "nbformat": 4,
 "nbformat_minor": 2
}