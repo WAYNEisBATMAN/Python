{
 "cells": [
  {
   "cell_type": "code",
   "execution_count": null,
   "metadata": {},
   "outputs": [],
   "source": [
    "\"\"\"1) Some inbuilt functions use with strings\"\"\"\n",
    "\n",
    "x=\"wayne is batman\"\n",
    "print(x.title())\n",
    "print(x.capitalize())\n",
    "print(x.lower())\n",
    "print(x.lstrip())\n",
    "print(x.rfind(\"a\"), x.find(\"a\"))  # If the required string exist in the main string then the output must be                                                greater than equal to 0.\n",
    "                                  # If substring doesn't exist inside the main string, it returns -1.\n"
   ]
  },
  {
   "cell_type": "code",
   "execution_count": null,
   "metadata": {},
   "outputs": [],
   "source": [
    "\"\"\"\n",
    "2)-----------------------------Test if a substring is present with in a string or not---------------------------------\n",
    "\"\"\"\n",
    "\n",
    "y = \"wayneisbatman\"\n",
    "\n",
    "print(\"bat\" in y)\n",
    "print(\"bat\" not in y)    \n"
   ]
  },
  {
   "cell_type": "code",
   "execution_count": null,
   "metadata": {},
   "outputs": [],
   "source": [
    "\"\"\" \n",
    "3) Python String rfind() and find() ---> Both are used to check if a substring is present in a string or not \n",
    "                                         if it is present then this will return it's index.\n",
    "\n",
    "                                         The difference between both is rfind() will give the maximum index                                                     value where the substring is present, while find() will give the                                                       smallest index value.\n",
    "                                         So we can understand that there difference only exist if the substring                                                 exist multiple times in the main string.\n",
    "\n",
    "                                         Syntax --->  string_name.find(substring,start,stop)\n",
    "                                                      string_name.rfind(substring,start,stop)\n",
    "\n",
    "                                                      start and stop are the index values to fix a certain                                                                   region in the string\n",
    "\"\"\"\n",
    "\n",
    "x=\"hello my name is my name only my ok?\"\n",
    "print(x.find(\"my\"), x.rfind(\"my\"))\n"
   ]
  },
  {
   "cell_type": "code",
   "execution_count": null,
   "metadata": {},
   "outputs": [],
   "source": [
    "\"\"\"\n",
    "4) split() ---> split() method returns a list of strings after breaking the given string by the specified                       separator.\n",
    "                \n",
    "              Syntax ---> string_name.split(separator, maxsplit)\n",
    "                \n",
    "              Parameters --> separator : The string splits at this specified separator. If is not provided                                                      then any white space is a separator.\n",
    "                             maxsplit  : It is a number, which tells us to split the string into maximum of                                                     provided number of times. If it is not provided then there is no limit.\n",
    "\"\"\"\n",
    "\n",
    "x1=\"Hello my name is pritam and what is your name\"\n",
    "y1=x1.split()\n",
    "print(y1)\n",
    "\n",
    "x1=\"Hello my name is pritam and what is your name\"\n",
    "y1=x1.split(\" \" , 5)                   # maxsplit = 5 \n",
    "print(y1)\n",
    "\n",
    "x2=\"Hello, my, name, is, pritam, and, what, is your name\"\n",
    "y2=x2.split(\",\" , )\n",
    "print(y2)\n"
   ]
  },
  {
   "cell_type": "code",
   "execution_count": null,
   "metadata": {},
   "outputs": [],
   "source": [
    "\"\"\"\n",
    "5)\n",
    "\n",
    "\n",
    "\n",
    "\n",
    "\"\"\"\n",
    "\n",
    "x1=\"Hello my name is pritam and what is your name\"\n",
    "x=sorted(x1)\n",
    "print(x)"
   ]
  },
  {
   "cell_type": "code",
   "execution_count": null,
   "metadata": {},
   "outputs": [],
   "source": []
  }
 ],
 "metadata": {
  "language_info": {
   "codemirror_mode": {
    "name": "ipython",
    "version": 3
   },
   "file_extension": ".py",
   "mimetype": "text/x-python",
   "name": "python",
   "nbconvert_exporter": "python",
   "pygments_lexer": "ipython3",
   "version": "3.8.1-final"
  },
  "orig_nbformat": 2,
  "kernelspec": {
   "name": "python38164bitdb5eb25146b548e1b553eaf48f667f10",
   "display_name": "Python 3.8.1 64-bit"
  }
 },
 "nbformat": 4,
 "nbformat_minor": 2
}