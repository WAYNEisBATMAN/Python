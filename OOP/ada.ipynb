{
 "metadata": {
  "language_info": {
   "codemirror_mode": {
    "name": "ipython",
    "version": 3
   },
   "file_extension": ".py",
   "mimetype": "text/x-python",
   "name": "python",
   "nbconvert_exporter": "python",
   "pygments_lexer": "ipython3",
   "version": "3.8.5-final"
  },
  "orig_nbformat": 2,
  "kernelspec": {
   "name": "python_defaultSpec_1597731791664",
   "display_name": "Python 3.8.5 64-bit"
  }
 },
 "nbformat": 4,
 "nbformat_minor": 2,
 "cells": [
  {
   "cell_type": "code",
   "execution_count": null,
   "metadata": {
    "tags": []
   },
   "outputs": [],
   "source": [
    "#   1 \n",
    "#   2    1 \n",
    "#   4    2    1 \n",
    "#   8    4    2    1 \n",
    "#  16    8    4    2    1 \n",
    "#  32   16    8    4    2    1 \n",
    "#  64   32   16    8    4    2    1 \n",
    "# 128   64   32   16    8    4    2    1\n",
    "\n",
    "for i in range(128,0,-2i):\n",
    "    for j in range(i,0,-2*i):\n",
    "        print(j, end=\" \")\n",
    "    print(\" \")\n",
    "    \n"
   ]
  },
  {
   "cell_type": "code",
   "execution_count": null,
   "metadata": {
    "tags": []
   },
   "outputs": [],
   "source": [
    "\"\"\"\n",
    "Numbers Pattern 3: Inverted Pyramid pattern with numbers\n",
    "1 1 1 1 1 \n",
    "2 2 2 2 \n",
    "3 3 3 \n",
    "4 4 \n",
    "5\n",
    "\"\"\"\n",
    "\n",
    "for i in range(5,0,-1):\n",
    "    for j in range(i,):\n",
    "\n",
    "\n",
    "\n",
    "        "
   ]
  },
  {
   "cell_type": "code",
   "execution_count": null,
   "metadata": {
    "tags": []
   },
   "outputs": [],
   "source": [
    "print(\"hello \\nhello \\nhello\")"
   ]
  },
  {
   "cell_type": "code",
   "execution_count": null,
   "metadata": {},
   "outputs": [],
   "source": []
  }
 ]
}