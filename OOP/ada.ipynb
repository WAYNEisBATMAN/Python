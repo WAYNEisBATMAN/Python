{
 "cells": [
  {
   "cell_type": "code",
   "execution_count": 1,
   "metadata": {
    "tags": []
   },
   "outputs": [
    {
     "output_type": "stream",
     "name": "stdout",
     "text": "inside sub init\ndefinition3 is working\n"
    }
   ],
   "source": [
    "class SubClass():\n",
    "\n",
    "    def __init__(self):\n",
    "        print(\"inside sub init\")\n",
    "\n",
    "    def definition3(self):\n",
    "      print(\"definition3 is working\")\n",
    "  \n",
    "    def definition4(self):\n",
    "      print(\"definiton4 is working\")\n",
    "\n",
    "S1=SubClass() \n",
    "S1.definition3()\n"
   ]
  },
  {
   "cell_type": "code",
   "execution_count": 2,
   "metadata": {
    "tags": []
   },
   "outputs": [
    {
     "output_type": "stream",
     "name": "stdout",
     "text": "hello world\n"
    },
    {
     "output_type": "execute_result",
     "data": {
      "text/plain": "\" \\n'' backslash is a special character also called as escape character.\\ncan be used for many purposes like single backslash as a sign of continuation\\n\\n for new line\\n\\t for new tab\\n\""
     },
     "metadata": {},
     "execution_count": 2
    }
   ],
   "source": [
    "print(\"hello \\\n",
    "world\")\n",
    "\"\"\" \n",
    "'\\' backslash is a special character also called as escape character.\n",
    "can be used for many purposes like single backslash as a sign of continuation\n",
    "\\n for new line\n",
    "\\t for new tab\n",
    "\"\"\""
   ]
  },
  {
   "cell_type": "code",
   "execution_count": 3,
   "metadata": {},
   "outputs": [
    {
     "output_type": "error",
     "ename": "IndentationError",
     "evalue": "expected an indented block (<ipython-input-3-eb140a4298fc>, line 4)",
     "traceback": [
      "\u001b[1;36m  File \u001b[1;32m\"<ipython-input-3-eb140a4298fc>\"\u001b[1;36m, line \u001b[1;32m4\u001b[0m\n\u001b[1;33m    type(a)\u001b[0m\n\u001b[1;37m       ^\u001b[0m\n\u001b[1;31mIndentationError\u001b[0m\u001b[1;31m:\u001b[0m expected an indented block\n"
     ]
    }
   ],
   "source": [
    "a=30\n",
    "class asa:\n",
    "        \n",
    "type(a)"
   ]
  },
  {
   "cell_type": "code",
   "execution_count": 4,
   "metadata": {},
   "outputs": [
    {
     "output_type": "execute_result",
     "data": {
      "text/plain": "<function eval(source, globals=None, locals=None, /)>"
     },
     "metadata": {},
     "execution_count": 4
    }
   ],
   "source": [
    "eval"
   ]
  },
  {
   "cell_type": "code",
   "execution_count": 5,
   "metadata": {
    "tags": []
   },
   "outputs": [
    {
     "output_type": "stream",
     "name": "stdout",
     "text": "q\n"
    }
   ],
   "source": [
    "p=\"\\nTo edn this program press q\"\n",
    "p += \"\\nenter your name\"\n",
    "message = \"\"\n",
    "while message != \"q\":\n",
    "    message=input(p)\n",
    "    print(message)"
   ]
  },
  {
   "cell_type": "code",
   "execution_count": 6,
   "metadata": {
    "tags": []
   },
   "outputs": [
    {
     "output_type": "error",
     "ename": "NameError",
     "evalue": "name 'q' is not defined",
     "traceback": [
      "\u001b[1;31m---------------------------------------------------------------------------\u001b[0m",
      "\u001b[1;31mNameError\u001b[0m                                 Traceback (most recent call last)",
      "\u001b[1;32m<ipython-input-6-e222fcdf3350>\u001b[0m in \u001b[0;36m<module>\u001b[1;34m\u001b[0m\n\u001b[1;32m----> 1\u001b[1;33m \u001b[0mq\u001b[0m\u001b[1;33m\u001b[0m\u001b[1;33m\u001b[0m\u001b[0m\n\u001b[0m",
      "\u001b[1;31mNameError\u001b[0m: name 'q' is not defined"
     ]
    }
   ],
   "source": [
    "nums = [0, 1, 2, 1, 4, 1, 6, 1]\n",
    "num =[2,3,4]\n",
    "\n",
    "\n",
    "while 1 not in num:       \n",
    "    nums.remove(1)\n",
    "    print(nums)"
   ]
  },
  {
   "cell_type": "code",
   "execution_count": null,
   "metadata": {},
   "outputs": [],
   "source": []
  }
 ],
 "metadata": {
  "language_info": {
   "codemirror_mode": {
    "name": "ipython",
    "version": 3
   },
   "file_extension": ".py",
   "mimetype": "text/x-python",
   "name": "python",
   "nbconvert_exporter": "python",
   "pygments_lexer": "ipython3",
   "version": 3
  },
  "orig_nbformat": 2,
  "kernelspec": {
   "name": "python_defaultSpec_1595417984670",
   "display_name": "Python 3.7.8 64-bit"
  }
 },
 "nbformat": 4,
 "nbformat_minor": 2
}