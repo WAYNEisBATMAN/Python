{
 "metadata": {
  "language_info": {
   "codemirror_mode": {
    "name": "ipython",
    "version": 3
   },
   "file_extension": ".py",
   "mimetype": "text/x-python",
   "name": "python",
   "nbconvert_exporter": "python",
   "pygments_lexer": "ipython3",
   "version": "3.8.5-final"
  },
  "orig_nbformat": 2,
  "kernelspec": {
   "name": "python_defaultSpec_1597649660864",
   "display_name": "Python 3.8.5 64-bit"
  }
 },
 "nbformat": 4,
 "nbformat_minor": 2,
 "cells": [
  {
   "cell_type": "code",
   "execution_count": null,
   "metadata": {},
   "outputs": [],
   "source": [
    "#   1 \n",
    "#   2    1 \n",
    "#   4    2    1 \n",
    "#   8    4    2    1 \n",
    "#  16    8    4    2    1 \n",
    "#  32   16    8    4    2    1 \n",
    "#  64   32   16    8    4    2    1 \n",
    "# 128   64   32   16    8    4    2    1\n",
    "\n",
    "for i in range(128,0,-2i):\n",
    "    for j in range(i,0,-2*i):\n",
    "        print(j, end=\" \")\n",
    "    print(\" \"\n",
    "         \n",
    "    \n",
    "  \n",
    "\n",
    "\n",
    "\n"
   ]
  },
  {
   "cell_type": "code",
   "execution_count": 4,
   "metadata": {
    "tags": []
   },
   "outputs": [
    {
     "output_type": "stream",
     "name": "stdout",
     "text": "5\n4\n3\n2\n1\n"
    }
   ],
   "source": [
    "\"\"\"\n",
    "Numbers Pattern 3: Inverted Pyramid pattern with numbers\n",
    "1 1 1 1 1 \n",
    "2 2 2 2 \n",
    "3 3 3 \n",
    "4 4 \n",
    "5\n",
    "\"\"\"\n",
    "\n",
    "\n",
    "for i in range(5,0,-1):\n",
    "    for j in range(i,):    "
   ]
  },
  {
   "cell_type": "code",
   "execution_count": 4,
   "metadata": {
    "tags": []
   },
   "outputs": [
    {
     "output_type": "stream",
     "name": "stdout",
     "text": "10\n8\n6\n4\n"
    }
   ],
   "source": [
    "for i in range(10,2,-2):\n",
    "    print(i)"
   ]
  },
  {
   "cell_type": "code",
   "execution_count": null,
   "metadata": {},
   "outputs": [],
   "source": [
    "for i range(a,0,a*2)"
   ]
  }
 ]
}