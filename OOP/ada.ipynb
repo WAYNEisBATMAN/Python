{
 "metadata": {
  "language_info": {
   "codemirror_mode": {
    "name": "ipython",
    "version": 3
   },
   "file_extension": ".py",
   "mimetype": "text/x-python",
   "name": "python",
   "nbconvert_exporter": "python",
   "pygments_lexer": "ipython3",
   "version": "3.8.5-final"
  },
  "orig_nbformat": 2,
  "kernelspec": {
   "name": "python_defaultSpec_1597603602944",
   "display_name": "Python 3.8.5 64-bit"
  }
 },
 "nbformat": 4,
 "nbformat_minor": 2,
 "cells": [
  {
   "cell_type": "code",
   "execution_count": 4,
   "metadata": {
    "tags": []
   },
   "outputs": [
    {
     "output_type": "stream",
     "name": "stdout",
     "text": "\n \n \n \n \n \n \n \n \n1  \n1 2  \n1 2 3  \n1 2 3 4  \n1 2 3 4 5  \n new \n"
    }
   ],
   "source": [
    "\n",
    "\"\"\"\n",
    "Number Pattern 2: Half pyramid pattern with numbers\n",
    "1 \n",
    "1 2 \n",
    "1 2 3 \n",
    "1 2 3 4 \n",
    "1 2 3 4 5\n",
    "\n",
    "\"\"\"\n",
    "\n",
    "\n",
    "print(\" \")\n",
    "\n",
    "for i in range(7):\n",
    "    for j in range(1,i):\n",
    "        print(j,end=\" \")\n",
    "    print(\" \")  \n",
    "\n",
    "print(\" new \")\n",
    "\n",
    "\n"
   ]
  },
  {
   "cell_type": "code",
   "execution_count": 18,
   "metadata": {
    "tags": []
   },
   "outputs": [
    {
     "output_type": "stream",
     "name": "stdout",
     "text": "0 1 2 3 4 5 6  \n0 1 2 3 4 5  \n0 1 2 3 4  \n0 1 2 3  \n0 1 2  \n0 1  \n"
    }
   ],
   "source": [
    "\"\"\"\n",
    "Numbers Pattern 3: Inverted Pyramid pattern with numbers\n",
    "1 1 1 1 1 \n",
    "2 2 2 2 \n",
    "3 3 3 \n",
    "4 4 \n",
    "5\n",
    "\"\"\"\n",
    "for i in range(7,0,-1):\n",
    "    for j in range(i):\n",
    "        print(j, end=\" \")\n",
    "\n",
    "    print(\" \")\n",
    "\n",
    "\n",
    "for i in range(7,-1):\n",
    "    print(i)\n"
   ]
  },
  {
   "cell_type": "code",
   "execution_count": null,
   "metadata": {},
   "outputs": [],
   "source": []
  },
  {
   "cell_type": "code",
   "execution_count": null,
   "metadata": {},
   "outputs": [],
   "source": []
  }
 ]
}