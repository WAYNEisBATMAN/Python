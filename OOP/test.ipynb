{
 "cells": [
  {
   "cell_type": "code",
   "execution_count": 1,
   "metadata": {
    "tags": []
   },
   "outputs": [
    {
     "output_type": "stream",
     "name": "stdout",
     "text": "0\n11\n32\n39\n"
    }
   ],
   "source": [
    "a = \"my name is my name your name is my and my\"\n",
    "b=a.find(\"my\",0)\n",
    "while b!=-1:\n",
    "    print(b)\n",
    "    b=a.find(\"my\",b+1)"
   ]
  },
  {
   "cell_type": "code",
   "execution_count": null,
   "metadata": {
    "tags": []
   },
   "outputs": [],
   "source": [
    "# Create a Time class and initialize it with hours and minutes.\n",
    "# 1. Make a method addTime which should take two time object and add them. E.g.- (2 hour and 50 min)+(1 hr and 20 min) is (4 hr and 10 min)\n",
    "# 2. Make a method displayTime which should print the time.\n",
    "# 3. Make a method DisplayMinute which should display the total minutes in the Time. E.g.- (1 hr 2 min) should display 62 minute.\n",
    "\n",
    "class Time:\n",
    "    def __init__(self, hours, minutes):\n",
    "        self.hours=hours\n",
    "        self.minutes=minutes\n",
    "\n",
    "    def addTime(self,t1,t2):\n",
    "        self.t1=t1\n",
    "        self.t2=t2\n",
    "        t3=Time(0,0)\n",
    "\n",
    "        if (t1.minutes+t2.minutes)>60:\n",
    "            t3.hours=(t1.minutes+t2.minutes)//60 +t1.hours +t2.hours\n",
    "            t3.minutes=(t1.minutes+t2.minutes)/60-(t1.minutes+t2.minutes)//60\n",
    "        else:\n",
    "            t3.minutes=t1.minutes+t2.minutes\n",
    "\n",
    "        print(t3)\n",
    "\n",
    "    def displayTime():\n",
    "        print(self.hours,\":\",self.minutes)\n",
    "\n",
    "    def DisplayMinute(hours,minutes):\n",
    "        self.hours=hours\n",
    "        self.minutes=minutes\n",
    "\n",
    "a=Time(1,30)\n",
    "\n",
    "b=Time(1,30)\n",
    "\n",
    "print(Time.addTime()) \n",
    "\n",
    "\n"
   ]
  },
  {
   "cell_type": "code",
   "execution_count": null,
   "metadata": {
    "tags": []
   },
   "outputs": [],
   "source": [
    "class Time():\n",
    "\n",
    "  def __init__(self, hours, mins):\n",
    "    self.hours = hours\n",
    "    self.mins = mins\n",
    "\n",
    "  def addTime(t1, t2):\n",
    "    t3 = Time(0,0)\n",
    "    if t1.mins+t2.mins > 60:\n",
    "      t3.hours = (t1.mins+t2.mins)/60\n",
    "    t3.hours = t3.hours+t1.hours+t2.hours\n",
    "    t3.mins = (t1.mins+t2.mins)-(((t1.mins+t2.mins)/60)*60)\n",
    "    return t3\n",
    "\n",
    "  def displayTime(self):\n",
    "    print(\"Time is\",self.hours,\"hours and\",self.mins,\"minutes.\")\n",
    "\n",
    "  def displayMinute(self):\n",
    "    print((self.hours*60)+self.mins)\n",
    "\n",
    "a = Time(2,50)\n",
    "b = Time(1,20)\n",
    "c = Time.addTime(a,b)\n",
    "c.displayTime()\n",
    "c.displayMinute()\n"
   ]
  },
  {
   "cell_type": "code",
   "execution_count": null,
   "metadata": {
    "tags": []
   },
   "outputs": [],
   "source": [
    "class Phone:\n",
    "\n",
    "    def __init__(self): \n",
    "        print(\"inhere\")\n",
    "\n",
    "    def show(self, brand, color, size):\n",
    "        self.brand = brand\n",
    "        self.color = color\n",
    "        self.size = size\n",
    "        print(self.brand, self.color, self.size)\n",
    "\n",
    "android = Phone(\"Google Pixel\", \"Matte Black\", \"4.7\")    \n",
    "Ios     = Phone(\"Iphone\", \"Gold\", \"5.6\")\n",
    "\n",
    "android.show(\"Google Pixel\", \"Matte Black\", \"4.7\")\n",
    "Ios.show(\"Iphone\", \"Gold\", \"5.6\")\n",
    "Phone.show(android)\n",
    "Phone.show(\"Google Pixel\", \"Matte Black\", \"4.7\")\n"
   ]
  },
  {
   "cell_type": "code",
   "execution_count": null,
   "metadata": {
    "tags": []
   },
   "outputs": [],
   "source": [
    "x=20\n",
    "print(x)\n",
    "id(x)\n",
    "del x\n",
    "y=20\n",
    "id(y)\n"
   ]
  },
  {
   "cell_type": "code",
   "execution_count": 9,
   "metadata": {
    "tags": []
   },
   "outputs": [
    {
     "output_type": "stream",
     "name": "stdout",
     "text": "0\n1\n2\n"
    }
   ],
   "source": [
    "x=range(0,4,2)\n",
    "for i in range(3):\n",
    "    print(i)\n",
    "    "
   ]
  },
  {
   "cell_type": "code",
   "execution_count": 10,
   "metadata": {
    "tags": []
   },
   "outputs": [
    {
     "output_type": "stream",
     "name": "stdout",
     "text": "3\n3\n3\n"
    }
   ],
   "source": [
    "num=3\n",
    "for i in range(num):\n",
    "    print(num)\n"
   ]
  },
  {
   "cell_type": "code",
   "execution_count": 24,
   "metadata": {
    "tags": []
   },
   "outputs": [
    {
     "output_type": "stream",
     "name": "stdout",
     "text": "0\nhello hum\nhum\n"
    }
   ],
   "source": [
    "for i in range(1):\n",
    "    print(i)\n",
    "    print(\"hello\", end=\" \")\n",
    "    print(\"hum\")\n",
    "    print(\"hum\")\n",
    "\n"
   ]
  },
  {
   "cell_type": "code",
   "execution_count": 25,
   "metadata": {
    "tags": []
   },
   "outputs": [
    {
     "output_type": "stream",
     "name": "stdout",
     "text": "0 0 1"
    }
   ],
   "source": [
    "for num in range(3):\n",
    "    for i in range(num):\n",
    "        print(i, end=\" \")\n",
    "        "
   ]
  },
  {
   "cell_type": "code",
   "execution_count": 28,
   "metadata": {
    "tags": []
   },
   "outputs": [
    {
     "output_type": "stream",
     "name": "stdout",
     "text": "4 4 4 4"
    }
   ],
   "source": [
    "num = 4\n",
    "for i in range(num):\n",
    "    print(num, end=\" \")"
   ]
  },
  {
   "cell_type": "code",
   "execution_count": 47,
   "metadata": {
    "tags": []
   },
   "outputs": [
    {
     "output_type": "stream",
     "name": "stdout",
     "text": "\n1  \n2 2  \n3 3 3  \n4 4 4 4  \n5 5 5 5 5  \n6 6 6 6 6 6  \n"
    }
   ],
   "source": [
    "# 1 1 1 1 1 \n",
    "# 2 2 2 2 \n",
    "# 3 3 3 \n",
    "# 4 4 \n",
    "# 5\n",
    "\n",
    "for i in range(7):\n",
    "    for j in range(i,0,-1):\n",
    "        print(i , end=\" \")\n",
    "    print(\" \")  "
   ]
  },
  {
   "cell_type": "code",
   "execution_count": 52,
   "metadata": {
    "tags": []
   },
   "outputs": [
    {
     "output_type": "stream",
     "name": "stdout",
     "text": "hello hello hello hello"
    }
   ],
   "source": [
    "print(\"hello \" * 4, end=\" \")"
   ]
  },
  {
   "cell_type": "code",
   "execution_count": 10,
   "metadata": {
    "tags": []
   },
   "outputs": [
    {
     "output_type": "stream",
     "name": "stdout",
     "text": "1\n2\nFizz\n4\nBuzz\nFizz\n7\n8\nFizz\nBuzz\n11\nFizz\n13\n14\nFizzBuzz\n"
    }
   ],
   "source": [
    "num = int(input(\"Enter Number From 1<=T<=9 \"))\n",
    "\n",
    "for i in range(1,num+1):\n",
    "    \n",
    "    if i%3==0 and i%5==0 :\n",
    "        print(\"FizzBuzz\")\n",
    "    \n",
    "    elif i%3==0:\n",
    "        print(\"Fizz\")\n",
    "    \n",
    "    elif i%5==0:\n",
    "        print(\"Buzz\")   \n",
    "    \n",
    "    else:\n",
    "        print(i)          "
   ]
  },
  {
   "cell_type": "code",
   "execution_count": null,
   "metadata": {},
   "outputs": [],
   "source": []
  }
 ],
 "metadata": {
  "language_info": {
   "codemirror_mode": {
    "name": "ipython",
    "version": 3
   },
   "file_extension": ".py",
   "mimetype": "text/x-python",
   "name": "python",
   "nbconvert_exporter": "python",
   "pygments_lexer": "ipython3",
   "version": "3.8.5-final"
  },
  "orig_nbformat": 2,
  "kernelspec": {
   "name": "python_defaultSpec_1597581088380",
   "display_name": "Python 3.7.8 64-bit"
  }
 },
 "nbformat": 4,
 "nbformat_minor": 2
}