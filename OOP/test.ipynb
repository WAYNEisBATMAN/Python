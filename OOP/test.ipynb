{
 "cells": [
  {
   "cell_type": "code",
   "execution_count": 7,
   "metadata": {
    "tags": []
   },
   "outputs": [
    {
     "output_type": "stream",
     "name": "stdout",
     "text": "0\n11\n32\n39\n"
    }
   ],
   "source": [
    "a = \"my name is my name your name is my and my\"\n",
    "b=a.find(\"my\",0)\n",
    "while b!=-1:\n",
    "    print(b)\n",
    "    b=a.find(\"my\",b+1)"
   ]
  },
  {
   "cell_type": "code",
   "execution_count": null,
   "metadata": {
    "tags": []
   },
   "outputs": [],
   "source": [
    "# Create a Time class and initialize it with hours and minutes.\n",
    "# 1. Make a method addTime which should take two time object and add them. E.g.- (2 hour and 50 min)+(1 hr and 20 min) is (4 hr and 10 min)\n",
    "# 2. Make a method displayTime which should print the time.\n",
    "# 3. Make a method DisplayMinute which should display the total minutes in the Time. E.g.- (1 hr 2 min) should display 62 minute.\n",
    "\n",
    "class Time:\n",
    "    def __init__(self, hours, minutes):\n",
    "        self.hours=hours\n",
    "        self.minutes=minutes\n",
    "\n",
    "    def addTime(self,t1,t2):\n",
    "        self.t1=t1\n",
    "        self.t2=t2\n",
    "        t3=Time(0,0)\n",
    "\n",
    "        if (t1.minutes+t2.minutes)>60:\n",
    "            t3.hours=(t1.minutes+t2.minutes)//60 +t1.hours +t2.hours\n",
    "            t3.minutes=(t1.minutes+t2.minutes)/60-(t1.minutes+t2.minutes)//60\n",
    "        else:\n",
    "            t3.minutes=t1.minutes+t2.minutes\n",
    "\n",
    "        print(t3)\n",
    "\n",
    "    def displayTime():\n",
    "        print(self.hours,\":\",self.minutes)\n",
    "\n",
    "    def DisplayMinute(hours,minutes):\n",
    "        self.hours=hours\n",
    "        self.minutes=minutes\n",
    "\n",
    "a=Time(1,30)\n",
    "\n",
    "b=Time(1,30)\n",
    "\n",
    "print(Time.addTime()) \n",
    "\n",
    "\n"
   ]
  },
  {
   "cell_type": "code",
   "execution_count": null,
   "metadata": {
    "tags": []
   },
   "outputs": [],
   "source": [
    "class Time():\n",
    "\n",
    "  def __init__(self, hours, mins):\n",
    "    self.hours = hours\n",
    "    self.mins = mins\n",
    "\n",
    "  def addTime(t1, t2):\n",
    "    t3 = Time(0,0)\n",
    "    if t1.mins+t2.mins > 60:\n",
    "      t3.hours = (t1.mins+t2.mins)/60\n",
    "    t3.hours = t3.hours+t1.hours+t2.hours\n",
    "    t3.mins = (t1.mins+t2.mins)-(((t1.mins+t2.mins)/60)*60)\n",
    "    return t3\n",
    "\n",
    "  def displayTime(self):\n",
    "    print(\"Time is\",self.hours,\"hours and\",self.mins,\"minutes.\")\n",
    "\n",
    "  def displayMinute(self):\n",
    "    print((self.hours*60)+self.mins)\n",
    "\n",
    "a = Time(2,50)\n",
    "b = Time(1,20)\n",
    "c = Time.addTime(a,b)\n",
    "c.displayTime()\n",
    "c.displayMinute()\n"
   ]
  },
  {
   "cell_type": "code",
   "execution_count": null,
   "metadata": {
    "tags": []
   },
   "outputs": [],
   "source": [
    "class Phone:\n",
    "\n",
    "    def __init__(self): \n",
    "        print(\"inhere\")\n",
    "\n",
    "    def show(self, brand, color, size):\n",
    "        self.brand = brand\n",
    "        self.color = color\n",
    "        self.size = size\n",
    "        print(self.brand, self.color, self.size)\n",
    "\n",
    "android = Phone(\"Google Pixel\", \"Matte Black\", \"4.7\")    \n",
    "Ios     = Phone(\"Iphone\", \"Gold\", \"5.6\")\n",
    "\n",
    "android.show(\"Google Pixel\", \"Matte Black\", \"4.7\")\n",
    "Ios.show(\"Iphone\", \"Gold\", \"5.6\")\n",
    "Phone.show(android)\n",
    "Phone.show(\"Google Pixel\", \"Matte Black\", \"4.7\")\n"
   ]
  },
  {
   "cell_type": "code",
   "execution_count": null,
   "metadata": {
    "tags": []
   },
   "outputs": [],
   "source": [
    "x=20\n",
    "print(x)\n",
    "id(x)\n",
    "del x\n",
    "y=20\n",
    "id(y)\n"
   ]
  },
  {
   "cell_type": "code",
   "execution_count": null,
   "metadata": {},
   "outputs": [],
   "source": [
    "# Using Vpn Be like\n",
    "# You Can Run\n",
    "# But\n",
    "# You Can't Hide"
   ]
  },
  {
   "cell_type": "code",
   "execution_count": 7,
   "metadata": {
    "tags": []
   },
   "outputs": [
    {
     "output_type": "execute_result",
     "data": {
      "text/plain": "140734056924016"
     },
     "metadata": {},
     "execution_count": 7
    }
   ],
   "source": [
    "x=20\n",
    "id(x)\n",
    "del x\n",
    "y=15+5\n",
    "id(y)\n"
   ]
  },
  {
   "cell_type": "code",
   "execution_count": null,
   "metadata": {},
   "outputs": [],
   "source": [
    "class SubClass():\n",
    "\n",
    "    def __init__(self):\n",
    "        print(\"inside sub init\")\n",
    "\n",
    "    def definition3(self):\n",
    "      print(\"definition3 is working\")\n",
    "  \n",
    "    def definition4(self):\n",
    "      print(\"definiton4 is working\")\n",
    "\n",
    "S1=SubClass() \n",
    "S1.definition3()\n"
   ]
  },
  {
   "cell_type": "code",
   "execution_count": null,
   "metadata": {},
   "outputs": [],
   "source": [
    "print(\"hello \\\n",
    "world\")\n",
    "\"\"\" \n",
    "'\\' backslash is a special character also called as escape character.\n",
    "can be used for many purposes like single backslash as a sign of continuation\n",
    "\\n for new line\n",
    "\\t for new tab\n",
    "\"\"\""
   ]
  },
  {
   "cell_type": "code",
   "execution_count": null,
   "metadata": {},
   "outputs": [],
   "source": [
    "a=30\n",
    "class asa:\n",
    "        \n",
    "type(a)"
   ]
  },
  {
   "cell_type": "code",
   "execution_count": null,
   "metadata": {},
   "outputs": [],
   "source": [
    "p=\"\\nTo edn this program press q\"\n",
    "p += \"\\nenter your name\"\n",
    "message = \"\"\n",
    "while message != \"q\":\n",
    "    message=input(p)\n",
    "    print(message)"
   ]
  },
  {
   "cell_type": "code",
   "execution_count": null,
   "metadata": {},
   "outputs": [],
   "source": [
    "nums = [0, 1, 2, 1, 4, 1, 6, 1]\n",
    "num =[2,3,4]\n",
    "\n",
    "\n",
    "while 1 not in num:       \n",
    "    nums.remove(1)\n",
    "    print(nums)"
   ]
  },
  {
   "cell_type": "code",
   "execution_count": 4,
   "metadata": {
    "tags": []
   },
   "outputs": [
    {
     "output_type": "error",
     "ename": "SyntaxError",
     "evalue": "invalid syntax (<ipython-input-4-097f54647a6d>, line 5)",
     "traceback": [
      "\u001b[1;36m  File \u001b[1;32m\"<ipython-input-4-097f54647a6d>\"\u001b[1;36m, line \u001b[1;32m5\u001b[0m\n\u001b[1;33m    print(mySum(\"a\":\"hell\"))\u001b[0m\n\u001b[1;37m                   ^\u001b[0m\n\u001b[1;31mSyntaxError\u001b[0m\u001b[1;31m:\u001b[0m invalid syntax\n"
     ]
    }
   ],
   "source": [
    "\n",
    " "
   ]
  },
  {
   "cell_type": "code",
   "execution_count": null,
   "metadata": {},
   "outputs": [],
   "source": []
  }
 ],
 "metadata": {
  "language_info": {
   "codemirror_mode": {
    "name": "ipython",
    "version": 3
   },
   "file_extension": ".py",
   "mimetype": "text/x-python",
   "name": "python",
   "nbconvert_exporter": "python",
   "pygments_lexer": "ipython3",
   "version": "3.8.1-final"
  },
  "orig_nbformat": 2,
  "kernelspec": {
   "name": "python_defaultSpec_1597257633367",
   "display_name": "Python 3.7.8 64-bit"
  }
 },
 "nbformat": 4,
 "nbformat_minor": 2
}