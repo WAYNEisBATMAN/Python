{
 "cells": [
  {
   "cell_type": "code",
   "execution_count": 31,
   "metadata": {
    "tags": []
   },
   "outputs": [
    {
     "output_type": "stream",
     "name": "stdout",
     "text": "Python"
    }
   ],
   "source": [
    "# \"\"\"\n",
    "# Display letter of the word in Pattern\n",
    "#  P\n",
    "#  Py\n",
    "#  Pyt\n",
    "#  Pyth\n",
    "#  Pytho\n",
    "#  Python\n",
    "\n",
    "#  \"\"\"\n",
    "# for i in \"Python\":\n",
    "#     for j in i\n",
    "#     print(i)\n",
    "x=\"Python\"\n",
    "\n",
    "for i in x:\n",
    "    a=1\n",
    "    x=x[0:a]\n",
    "    a=a+1\n",
    "\n",
    "    for j in i\n",
    "\n",
    "\n",
    "\n",
    "    "
   ]
  },
  {
   "cell_type": "code",
   "execution_count": 29,
   "metadata": {},
   "outputs": [
    {
     "output_type": "execute_result",
     "data": {
      "text/plain": "('h', 'h')"
     },
     "metadata": {},
     "execution_count": 29
    }
   ],
   "source": [
    "\"\"\"\n",
    "Print the following Number Pattern\n",
    "\n",
    "0 \n",
    "2 4 \n",
    "4 8 8 \n",
    "8 16 16 16\n",
    "\"\"\"\n"
   ]
  },
  {
   "cell_type": "code",
   "execution_count": null,
   "metadata": {
    "tags": []
   },
   "outputs": [],
   "source": [
    "for i in range(2,0,-1):\n",
    "    for j in range(1,i):\n",
    "        print(j,end=\" \")    \n",
    "    print(\" \")    \n",
    "print(\"hello\")"
   ]
  },
  {
   "cell_type": "code",
   "execution_count": null,
   "metadata": {
    "tags": []
   },
   "outputs": [],
   "source": [
    "class Time():\n",
    "\n",
    "  def __init__(self, hours, mins):\n",
    "    self.hours = hours\n",
    "    self.mins = mins\n",
    "\n",
    "  def addTime(t1, t2):\n",
    "    t3 = Time(0,0)\n",
    "    if t1.mins+t2.mins > 60:\n",
    "      t3.hours = (t1.mins+t2.mins)/60\n",
    "    t3.hours = t3.hours+t1.hours+t2.hours\n",
    "    t3.mins = (t1.mins+t2.mins)-(((t1.mins+t2.mins)/60)*60)\n",
    "    return t3\n",
    "\n",
    "  def displayTime(self):\n",
    "    print(\"Time is\",self.hours,\"hours and\",self.mins,\"minutes.\")\n",
    "\n",
    "  def displayMinute(self):\n",
    "    print((self.hours*60)+self.mins)\n",
    "\n",
    "a = Time(2,50)\n",
    "b = Time(1,20)\n",
    "c = Time.addTime(a,b)\n",
    "c.displayTime()\n",
    "c.displayMinute()\n"
   ]
  },
  {
   "cell_type": "code",
   "execution_count": null,
   "metadata": {
    "tags": []
   },
   "outputs": [],
   "source": [
    "class Phone:\n",
    "\n",
    "    def __init__(self): \n",
    "        print(\"inhere\")\n",
    "\n",
    "    def show(self, brand, color, size):\n",
    "        self.brand = brand\n",
    "        self.color = color\n",
    "        self.size = size\n",
    "        print(self.brand, self.color, self.size)\n",
    "\n",
    "android = Phone(\"Google Pixel\", \"Matte Black\", \"4.7\")    \n",
    "Ios     = Phone(\"Iphone\", \"Gold\", \"5.6\")\n",
    "\n",
    "android.show(\"Google Pixel\", \"Matte Black\", \"4.7\")\n",
    "Ios.show(\"Iphone\", \"Gold\", \"5.6\")\n",
    "Phone.show(android)\n",
    "Phone.show(\"Google Pixel\", \"Matte Black\", \"4.7\")\n"
   ]
  },
  {
   "cell_type": "code",
   "execution_count": null,
   "metadata": {
    "tags": []
   },
   "outputs": [],
   "source": [
    "x=20\n",
    "print(x)\n",
    "id(x)\n",
    "del x\n",
    "y=20\n",
    "id(y)\n"
   ]
  },
  {
   "cell_type": "code",
   "execution_count": null,
   "metadata": {
    "tags": []
   },
   "outputs": [],
   "source": [
    "x=range(0,4,2)\n",
    "for i in range(3):\n",
    "    print(i)\n",
    "    "
   ]
  },
  {
   "cell_type": "code",
   "execution_count": null,
   "metadata": {
    "tags": []
   },
   "outputs": [],
   "source": [
    "num=3\n",
    "for i in range(num):\n",
    "    print(num)\n"
   ]
  },
  {
   "cell_type": "code",
   "execution_count": null,
   "metadata": {
    "tags": []
   },
   "outputs": [],
   "source": [
    "for i in range(1):\n",
    "    print(i)\n",
    "    print(\"hello\", end=\" \")\n",
    "    print(\"hum\")\n",
    "    print(\"hum\")\n",
    "\n"
   ]
  },
  {
   "cell_type": "code",
   "execution_count": null,
   "metadata": {
    "tags": []
   },
   "outputs": [],
   "source": [
    "for num in range(3):\n",
    "    for i in range(num):\n",
    "        print(i, end=\" \")\n",
    "        "
   ]
  },
  {
   "cell_type": "code",
   "execution_count": null,
   "metadata": {
    "tags": []
   },
   "outputs": [],
   "source": [
    "num = 4\n",
    "for i in range(num):\n",
    "    print(num, end=\" \")"
   ]
  },
  {
   "cell_type": "code",
   "execution_count": 11,
   "metadata": {
    "tags": []
   },
   "outputs": [
    {
     "output_type": "stream",
     "name": "stdout",
     "text": "1 * 2 * 3 * 4 \n\n1 * 2 * 3 \n\n1 * 2 \n\n1 \n\n"
    }
   ],
   "source": [
    "row = 4\n",
    "for i in range(0, row):\n",
    "    c = 1\n",
    "    print(c, end=' ')\n",
    "    for j in range(row - i - 1, 0, -1):\n",
    "        print('*', end=' ')\n",
    "        c = c + 1\n",
    "        print(c, end=' ')\n",
    "    print('\\n')"
   ]
  },
  {
   "cell_type": "code",
   "execution_count": null,
   "metadata": {
    "tags": []
   },
   "outputs": [],
   "source": [
    "print(\"hello \" * 4, end=\" \")"
   ]
  },
  {
   "cell_type": "code",
   "execution_count": null,
   "metadata": {
    "tags": []
   },
   "outputs": [],
   "source": [
    "num = int(input(\"Enter Number From 1<=T<=9 \"))\n",
    "\n",
    "for i in range(1,num+1):\n",
    "    \n",
    "    if i%3==0 and i%5==0 :\n",
    "        print(\"FizzBuzz\")\n",
    "    \n",
    "    elif i%3==0:\n",
    "        print(\"Fizz\")\n",
    "    \n",
    "    elif i%5==0:\n",
    "        print(\"Buzz\")   \n",
    "    \n",
    "    else:\n",
    "        print(i)          "
   ]
  },
  {
   "cell_type": "code",
   "execution_count": null,
   "metadata": {},
   "outputs": [],
   "source": []
  }
 ],
 "metadata": {
  "language_info": {
   "codemirror_mode": {
    "name": "ipython",
    "version": 3
   },
   "file_extension": ".py",
   "mimetype": "text/x-python",
   "name": "python",
   "nbconvert_exporter": "python",
   "pygments_lexer": "ipython3",
   "version": "3.8.5-final"
  },
  "orig_nbformat": 2,
  "kernelspec": {
   "name": "python_defaultSpec_1597731791662",
   "display_name": "Python 3.7.8 64-bit"
  }
 },
 "nbformat": 4,
 "nbformat_minor": 2
}